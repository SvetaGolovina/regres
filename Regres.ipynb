{
 "cells": [
  {
   "cell_type": "code",
   "execution_count": 1,
   "metadata": {},
   "outputs": [],
   "source": [
    "import pandas as pd\n",
    "import numpy as np\n",
    "from sklearn.model_selection import train_test_split"
   ]
  },
  {
   "cell_type": "markdown",
   "metadata": {},
   "source": [
    "## Cчитывание данных"
   ]
  },
  {
   "cell_type": "code",
   "execution_count": 273,
   "metadata": {},
   "outputs": [],
   "source": [
    "df1=pd.read_csv('January.csv', delimiter=',')\n",
    "df2=pd.read_csv('Feb.csv', delimiter=',')\n",
    "df3=pd.read_csv('Mart.csv', delimiter=',')\n",
    "df4=pd.read_csv('Apr.csv', delimiter=',')\n",
    "df5=pd.read_csv('Mai.csv', delimiter=',')\n",
    "df6=pd.read_csv('Juni.csv', delimiter=',')\n",
    "df7=pd.read_csv('Jule.csv', delimiter=',')\n",
    "df8=pd.read_csv('avg.csv', delimiter=',')\n",
    "df9=pd.read_csv('sep.csv', delimiter=',')\n",
    "df10=pd.read_csv('oct.csv', delimiter=',')\n",
    "df11=pd.read_csv('nov.csv', delimiter=',')\n",
    "df12=pd.read_csv('dec.csv', delimiter=',')"
   ]
  },
  {
   "cell_type": "markdown",
   "metadata": {},
   "source": [
    "# Объединение месяцев\n",
    "\n",
    "<small>Объединение месяцев</small></p>\n",
    "<big><big><big>Объединение месяцев</big>\n",
    "\n",
    "***Объединение месяцев***\n",
    "\n",
    "**Объединение месяцев**\n",
    "\n",
    "*Объединение месяцев*\n",
    "\n",
    "1. Sveta\n",
    "2. Roma\n",
    "\n",
    "- Sveta\n",
    "   + Roma\n",
    "      * Vlad\n",
    "---\n",
    "   > Me Too\n",
    "   >\n",
    "   > Sveta good girl\n",
    "---\n",
    "\n",
    "`Sveta`\n",
    "\n",
    "~~~python\n",
    " Sveta, ty pisuha\n",
    " import numpy\n",
    "~~~\n",
    "\n",
    "[Sveta](https://sun9-70.userapi.com/impf/QuvZdcykbEQFB4wzar0fhQ0YcA9Rs-CANZNMvw/hOxEVOI30zk.jpg?size=829x990&quality=96&proxy=1&sign=67fe99c964530bc3737d3178a0775e6d&type=album)\n",
    "\n",
    "$x + y$\n",
    "\n",
    "$$x+y$$\n",
    "\n",
    "$x_0^2+y_1^2$\n",
    "\n",
    "$$sin(x)*tg^3(y) \\approx exp(14) $$"
   ]
  },
  {
   "cell_type": "code",
   "execution_count": 274,
   "metadata": {},
   "outputs": [],
   "source": [
    "df0 = pd.concat([df1, df2, df3, df4, df5, df6, df7, df8, df9, df10, df11, df12], ignore_index=True)"
   ]
  },
  {
   "cell_type": "code",
   "execution_count": 275,
   "metadata": {},
   "outputs": [],
   "source": [
    "#очистка данных от отмененных и перенаправленных рейсов, так как у них некорректно высчитывать время задержки \n",
    "df0.drop(df0[df0['CANCELLED'] ==1].index, inplace=True)\n",
    "df0.drop(df0[df0['DIVERTED'] ==1].index, inplace=True)"
   ]
  },
  {
   "cell_type": "code",
   "execution_count": 276,
   "metadata": {},
   "outputs": [],
   "source": [
    "#выборка рейсов только из штата Калифорнии\n",
    "df0.drop(df0[df0['ORIGIN_STATE_NM'] !='California'].index, inplace=True)"
   ]
  },
  {
   "cell_type": "code",
   "execution_count": 277,
   "metadata": {},
   "outputs": [],
   "source": [
    "#удаление данных, которые предположительно не несут важной информации или не известны до окончания полета\n",
    "df0=df0.drop(df0.columns[[5, 9, 10, 12]], axis='columns')"
   ]
  },
  {
   "cell_type": "code",
   "execution_count": 278,
   "metadata": {},
   "outputs": [],
   "source": [
    "#перевод в минуты\n",
    "n=df0['CRS_DEP_TIME']//100 #часы\n",
    "k=df0['CRS_DEP_TIME']%100 #минуты\n",
    "df0['CRS_DEP_TIME']=n*60+k"
   ]
  },
  {
   "cell_type": "code",
   "execution_count": 279,
   "metadata": {},
   "outputs": [],
   "source": [
    "#перемешивание строк\n",
    "df0=df0.sample(frac=1)"
   ]
  },
  {
   "cell_type": "code",
   "execution_count": 280,
   "metadata": {},
   "outputs": [
    {
     "data": {
      "text/html": [
       "<div>\n",
       "<style scoped>\n",
       "    .dataframe tbody tr th:only-of-type {\n",
       "        vertical-align: middle;\n",
       "    }\n",
       "\n",
       "    .dataframe tbody tr th {\n",
       "        vertical-align: top;\n",
       "    }\n",
       "\n",
       "    .dataframe thead th {\n",
       "        text-align: right;\n",
       "    }\n",
       "</style>\n",
       "<table border=\"1\" class=\"dataframe\">\n",
       "  <thead>\n",
       "    <tr style=\"text-align: right;\">\n",
       "      <th></th>\n",
       "      <th>MONTH</th>\n",
       "      <th>DAY_OF_MONTH</th>\n",
       "      <th>DAY_OF_WEEK</th>\n",
       "      <th>OP_UNIQUE_CARRIER</th>\n",
       "      <th>ORIGIN</th>\n",
       "      <th>DEST</th>\n",
       "      <th>CRS_DEP_TIME</th>\n",
       "      <th>DEP_DELAY</th>\n",
       "      <th>DISTANCE</th>\n",
       "    </tr>\n",
       "  </thead>\n",
       "  <tbody>\n",
       "    <tr>\n",
       "      <th>1195137</th>\n",
       "      <td>11</td>\n",
       "      <td>8</td>\n",
       "      <td>4</td>\n",
       "      <td>B6</td>\n",
       "      <td>SMF</td>\n",
       "      <td>LGB</td>\n",
       "      <td>910</td>\n",
       "      <td>-4.0</td>\n",
       "      <td>387.0</td>\n",
       "    </tr>\n",
       "    <tr>\n",
       "      <th>1098716</th>\n",
       "      <td>10</td>\n",
       "      <td>24</td>\n",
       "      <td>3</td>\n",
       "      <td>AA</td>\n",
       "      <td>LAX</td>\n",
       "      <td>DFW</td>\n",
       "      <td>820</td>\n",
       "      <td>-3.0</td>\n",
       "      <td>1235.0</td>\n",
       "    </tr>\n",
       "    <tr>\n",
       "      <th>934153</th>\n",
       "      <td>9</td>\n",
       "      <td>9</td>\n",
       "      <td>7</td>\n",
       "      <td>YV</td>\n",
       "      <td>SBP</td>\n",
       "      <td>PHX</td>\n",
       "      <td>380</td>\n",
       "      <td>-3.0</td>\n",
       "      <td>509.0</td>\n",
       "    </tr>\n",
       "    <tr>\n",
       "      <th>367568</th>\n",
       "      <td>4</td>\n",
       "      <td>30</td>\n",
       "      <td>1</td>\n",
       "      <td>UA</td>\n",
       "      <td>SFO</td>\n",
       "      <td>LAS</td>\n",
       "      <td>772</td>\n",
       "      <td>102.0</td>\n",
       "      <td>414.0</td>\n",
       "    </tr>\n",
       "    <tr>\n",
       "      <th>314480</th>\n",
       "      <td>4</td>\n",
       "      <td>23</td>\n",
       "      <td>1</td>\n",
       "      <td>UA</td>\n",
       "      <td>LAX</td>\n",
       "      <td>EWR</td>\n",
       "      <td>490</td>\n",
       "      <td>0.0</td>\n",
       "      <td>2454.0</td>\n",
       "    </tr>\n",
       "    <tr>\n",
       "      <th>...</th>\n",
       "      <td>...</td>\n",
       "      <td>...</td>\n",
       "      <td>...</td>\n",
       "      <td>...</td>\n",
       "      <td>...</td>\n",
       "      <td>...</td>\n",
       "      <td>...</td>\n",
       "      <td>...</td>\n",
       "      <td>...</td>\n",
       "    </tr>\n",
       "    <tr>\n",
       "      <th>83097</th>\n",
       "      <td>1</td>\n",
       "      <td>18</td>\n",
       "      <td>4</td>\n",
       "      <td>NK</td>\n",
       "      <td>LAX</td>\n",
       "      <td>OAK</td>\n",
       "      <td>689</td>\n",
       "      <td>-1.0</td>\n",
       "      <td>337.0</td>\n",
       "    </tr>\n",
       "    <tr>\n",
       "      <th>393403</th>\n",
       "      <td>4</td>\n",
       "      <td>21</td>\n",
       "      <td>6</td>\n",
       "      <td>UA</td>\n",
       "      <td>SFO</td>\n",
       "      <td>IND</td>\n",
       "      <td>965</td>\n",
       "      <td>-2.0</td>\n",
       "      <td>1943.0</td>\n",
       "    </tr>\n",
       "    <tr>\n",
       "      <th>426343</th>\n",
       "      <td>5</td>\n",
       "      <td>26</td>\n",
       "      <td>6</td>\n",
       "      <td>OO</td>\n",
       "      <td>LAX</td>\n",
       "      <td>MFR</td>\n",
       "      <td>1180</td>\n",
       "      <td>-11.0</td>\n",
       "      <td>630.0</td>\n",
       "    </tr>\n",
       "    <tr>\n",
       "      <th>1028693</th>\n",
       "      <td>10</td>\n",
       "      <td>12</td>\n",
       "      <td>5</td>\n",
       "      <td>WN</td>\n",
       "      <td>OAK</td>\n",
       "      <td>ABQ</td>\n",
       "      <td>1170</td>\n",
       "      <td>0.0</td>\n",
       "      <td>889.0</td>\n",
       "    </tr>\n",
       "    <tr>\n",
       "      <th>695582</th>\n",
       "      <td>7</td>\n",
       "      <td>4</td>\n",
       "      <td>3</td>\n",
       "      <td>WN</td>\n",
       "      <td>SAN</td>\n",
       "      <td>BWI</td>\n",
       "      <td>675</td>\n",
       "      <td>0.0</td>\n",
       "      <td>2295.0</td>\n",
       "    </tr>\n",
       "  </tbody>\n",
       "</table>\n",
       "<p>783795 rows × 9 columns</p>\n",
       "</div>"
      ],
      "text/plain": [
       "         MONTH  DAY_OF_MONTH  DAY_OF_WEEK OP_UNIQUE_CARRIER ORIGIN DEST  \\\n",
       "1195137     11             8            4                B6    SMF  LGB   \n",
       "1098716     10            24            3                AA    LAX  DFW   \n",
       "934153       9             9            7                YV    SBP  PHX   \n",
       "367568       4            30            1                UA    SFO  LAS   \n",
       "314480       4            23            1                UA    LAX  EWR   \n",
       "...        ...           ...          ...               ...    ...  ...   \n",
       "83097        1            18            4                NK    LAX  OAK   \n",
       "393403       4            21            6                UA    SFO  IND   \n",
       "426343       5            26            6                OO    LAX  MFR   \n",
       "1028693     10            12            5                WN    OAK  ABQ   \n",
       "695582       7             4            3                WN    SAN  BWI   \n",
       "\n",
       "         CRS_DEP_TIME  DEP_DELAY  DISTANCE  \n",
       "1195137           910       -4.0     387.0  \n",
       "1098716           820       -3.0    1235.0  \n",
       "934153            380       -3.0     509.0  \n",
       "367568            772      102.0     414.0  \n",
       "314480            490        0.0    2454.0  \n",
       "...               ...        ...       ...  \n",
       "83097             689       -1.0     337.0  \n",
       "393403            965       -2.0    1943.0  \n",
       "426343           1180      -11.0     630.0  \n",
       "1028693          1170        0.0     889.0  \n",
       "695582            675        0.0    2295.0  \n",
       "\n",
       "[783795 rows x 9 columns]"
      ]
     },
     "execution_count": 280,
     "metadata": {},
     "output_type": "execute_result"
    }
   ],
   "source": [
    "df0"
   ]
  },
  {
   "cell_type": "code",
   "execution_count": null,
   "metadata": {},
   "outputs": [],
   "source": []
  },
  {
   "cell_type": "code",
   "execution_count": 211,
   "metadata": {},
   "outputs": [],
   "source": [
    "from matplotlib import pyplot as plt\n",
    "import seaborn as sns"
   ]
  },
  {
   "cell_type": "code",
   "execution_count": 253,
   "metadata": {},
   "outputs": [
    {
     "data": {
      "image/png": "[encoded data removed]",
      "text/plain": [
       "<Figure size 1080x1080 with 2 Axes>"
      ]
     },
     "metadata": {
      "needs_background": "light"
     },
     "output_type": "display_data"
    }
   ],
   "source": [
    "#анализ признаков\n",
    "df = df0.corr()\n",
    "fig, ax = plt.subplots(figsize=(15, 15))\n",
    "sns.heatmap(df, annot = True, fmt='.1g', vmax=0.1,  square=True)\n",
    "plt.show()"
   ]
  },
  {
   "cell_type": "code",
   "execution_count": 254,
   "metadata": {},
   "outputs": [
    {
     "data": {
      "image/png": "[encoded data removed]",
      "text/plain": [
       "<Figure size 432x288 with 1 Axes>"
      ]
     },
     "metadata": {
      "needs_background": "light"
     },
     "output_type": "display_data"
    }
   ],
   "source": [
    "#анализ зависимости задержек от дня месяца\n",
    "fig = plt.figure(1)\n",
    "sns.barplot(x='DAY_OF_MONTH', y='DEP_DELAY', data=df0)\n",
    "plt.show()"
   ]
  },
  {
   "cell_type": "code",
   "execution_count": 255,
   "metadata": {},
   "outputs": [
    {
     "data": {
      "image/png": "[encoded data removed]",
      "text/plain": [
       "<Figure size 432x288 with 1 Axes>"
      ]
     },
     "metadata": {
      "needs_background": "light"
     },
     "output_type": "display_data"
    }
   ],
   "source": [
    "#анализ зависимости задержек от дня недели\n",
    "fig = plt.figure(1)\n",
    "sns.barplot(x='DAY_OF_WEEK', y='DEP_DELAY', data=df0)\n",
    "plt.show()"
   ]
  },
  {
   "cell_type": "code",
   "execution_count": 256,
   "metadata": {},
   "outputs": [
    {
     "data": {
      "image/png": "[encoded data removed]",
      "text/plain": [
       "<Figure size 432x288 with 1 Axes>"
      ]
     },
     "metadata": {
      "needs_background": "light"
     },
     "output_type": "display_data"
    }
   ],
   "source": [
    "#анализ зависимости задержек от месяца\n",
    "fig = plt.figure(1)\n",
    "sns.barplot(x='MONTH', y='DEP_DELAY', data=df0)\n",
    "plt.show()"
   ]
  },
  {
   "cell_type": "code",
   "execution_count": 257,
   "metadata": {},
   "outputs": [
    {
     "data": {
      "image/png": "[encoded data removed]",
      "text/plain": [
       "<Figure size 432x288 with 1 Axes>"
      ]
     },
     "metadata": {
      "needs_background": "light"
     },
     "output_type": "display_data"
    }
   ],
   "source": [
    "#анализ зависимости задержек от месяца\n",
    "fig = plt.figure(1)\n",
    "sns.barplot(x='ORIGIN', y='DEP_DELAY', data=df0)\n",
    "plt.show()"
   ]
  },
  {
   "cell_type": "code",
   "execution_count": 258,
   "metadata": {},
   "outputs": [
    {
     "data": {
      "image/png": "[encoded data removed]",
      "text/plain": [
       "<Figure size 432x288 with 1 Axes>"
      ]
     },
     "metadata": {
      "needs_background": "light"
     },
     "output_type": "display_data"
    }
   ],
   "source": [
    "#анализ зависимости задержек от месяца\n",
    "fig = plt.figure(1)\n",
    "sns.barplot(x='OP_UNIQUE_CARRIER', y='DEP_DELAY', data=df0)\n",
    "plt.show()"
   ]
  },
  {
   "cell_type": "code",
   "execution_count": 259,
   "metadata": {},
   "outputs": [
    {
     "name": "stdout",
     "output_type": "stream",
     "text": [
      "13\n"
     ]
    }
   ],
   "source": [
    "print(len(np.unique(df0['OP_UNIQUE_CARRIER'].to_numpy())))"
   ]
  },
  {
   "cell_type": "code",
   "execution_count": 260,
   "metadata": {},
   "outputs": [
    {
     "name": "stdout",
     "output_type": "stream",
     "text": [
      "22\n"
     ]
    }
   ],
   "source": [
    "print(len(np.unique(df0['ORIGIN'].to_numpy())))"
   ]
  },
  {
   "cell_type": "code",
   "execution_count": 261,
   "metadata": {},
   "outputs": [
    {
     "data": {
      "text/plain": [
       "['MONTH',\n",
       " 'DAY_OF_MONTH',\n",
       " 'DAY_OF_WEEK',\n",
       " 'OP_UNIQUE_CARRIER',\n",
       " 'ORIGIN',\n",
       " 'DEST',\n",
       " 'CRS_DEP_TIME',\n",
       " 'DEP_DELAY',\n",
       " 'DISTANCE']"
      ]
     },
     "execution_count": 261,
     "metadata": {},
     "output_type": "execute_result"
    }
   ],
   "source": [
    "list(df0)"
   ]
  },
  {
   "cell_type": "code",
   "execution_count": 281,
   "metadata": {},
   "outputs": [],
   "source": [
    "#Подготовка данных с учетом анализа признаков (удаление месяца,дня недели, места прибытия и расстояние)\n",
    "df0=df0.drop(df0.columns[[0, 2, 5, 8]], axis='columns')"
   ]
  },
  {
   "cell_type": "code",
   "execution_count": 282,
   "metadata": {},
   "outputs": [
    {
     "data": {
      "text/plain": [
       "['DAY_OF_MONTH', 'OP_UNIQUE_CARRIER', 'ORIGIN', 'CRS_DEP_TIME', 'DEP_DELAY']"
      ]
     },
     "execution_count": 282,
     "metadata": {},
     "output_type": "execute_result"
    }
   ],
   "source": [
    "list(df0)"
   ]
  },
  {
   "cell_type": "code",
   "execution_count": 283,
   "metadata": {},
   "outputs": [],
   "source": [
    "#Кодирование категориальных и периодических признаков\n",
    "one_hot = pd.get_dummies(df0['DAY_OF_MONTH'])\n",
    "df0 = df0.drop('DAY_OF_MONTH',axis = 1)\n",
    "df0 = df0.join(one_hot)\n",
    "one_hot = pd.get_dummies(df0['OP_UNIQUE_CARRIER'])\n",
    "df0 = df0.drop('OP_UNIQUE_CARRIER',axis = 1)\n",
    "df0 = df0.join(one_hot)\n",
    "one_hot = pd.get_dummies(df0['ORIGIN'])\n",
    "df0 = df0.drop('ORIGIN',axis = 1)\n",
    "df0 = df0.join(one_hot)"
   ]
  },
  {
   "cell_type": "code",
   "execution_count": null,
   "metadata": {},
   "outputs": [],
   "source": [
    "#Нормализация данных\n",
    "X = df0.drop(columns=[\"DEP_DELAY\"])\n",
    "Y = df0[\"DEP_DELAY\"]\n",
    "X = X / X.aggregate(\"max\")\n",
    "df0[\"CRS_DEP_TIME\"]=X[\"CRS_DEP_TIME\"]"
   ]
  },
  {
   "cell_type": "code",
   "execution_count": 292,
   "metadata": {},
   "outputs": [
    {
     "data": {
      "text/html": [
       "<div>\n",
       "<style scoped>\n",
       "    .dataframe tbody tr th:only-of-type {\n",
       "        vertical-align: middle;\n",
       "    }\n",
       "\n",
       "    .dataframe tbody tr th {\n",
       "        vertical-align: top;\n",
       "    }\n",
       "\n",
       "    .dataframe thead th {\n",
       "        text-align: right;\n",
       "    }\n",
       "</style>\n",
       "<table border=\"1\" class=\"dataframe\">\n",
       "  <thead>\n",
       "    <tr style=\"text-align: right;\">\n",
       "      <th></th>\n",
       "      <th>CRS_DEP_TIME</th>\n",
       "      <th>DEP_DELAY</th>\n",
       "      <th>1</th>\n",
       "      <th>2</th>\n",
       "      <th>3</th>\n",
       "      <th>4</th>\n",
       "      <th>5</th>\n",
       "      <th>6</th>\n",
       "      <th>7</th>\n",
       "      <th>8</th>\n",
       "      <th>...</th>\n",
       "      <th>SAN</th>\n",
       "      <th>SBA</th>\n",
       "      <th>SBP</th>\n",
       "      <th>SCK</th>\n",
       "      <th>SFO</th>\n",
       "      <th>SJC</th>\n",
       "      <th>SMF</th>\n",
       "      <th>SMX</th>\n",
       "      <th>SNA</th>\n",
       "      <th>STS</th>\n",
       "    </tr>\n",
       "  </thead>\n",
       "  <tbody>\n",
       "    <tr>\n",
       "      <th>1195137</th>\n",
       "      <td>0.632384</td>\n",
       "      <td>-4.0</td>\n",
       "      <td>0</td>\n",
       "      <td>0</td>\n",
       "      <td>0</td>\n",
       "      <td>0</td>\n",
       "      <td>0</td>\n",
       "      <td>0</td>\n",
       "      <td>0</td>\n",
       "      <td>1</td>\n",
       "      <td>...</td>\n",
       "      <td>0</td>\n",
       "      <td>0</td>\n",
       "      <td>0</td>\n",
       "      <td>0</td>\n",
       "      <td>0</td>\n",
       "      <td>0</td>\n",
       "      <td>1</td>\n",
       "      <td>0</td>\n",
       "      <td>0</td>\n",
       "      <td>0</td>\n",
       "    </tr>\n",
       "    <tr>\n",
       "      <th>1098716</th>\n",
       "      <td>0.569840</td>\n",
       "      <td>-3.0</td>\n",
       "      <td>0</td>\n",
       "      <td>0</td>\n",
       "      <td>0</td>\n",
       "      <td>0</td>\n",
       "      <td>0</td>\n",
       "      <td>0</td>\n",
       "      <td>0</td>\n",
       "      <td>0</td>\n",
       "      <td>...</td>\n",
       "      <td>0</td>\n",
       "      <td>0</td>\n",
       "      <td>0</td>\n",
       "      <td>0</td>\n",
       "      <td>0</td>\n",
       "      <td>0</td>\n",
       "      <td>0</td>\n",
       "      <td>0</td>\n",
       "      <td>0</td>\n",
       "      <td>0</td>\n",
       "    </tr>\n",
       "    <tr>\n",
       "      <th>934153</th>\n",
       "      <td>0.264072</td>\n",
       "      <td>-3.0</td>\n",
       "      <td>0</td>\n",
       "      <td>0</td>\n",
       "      <td>0</td>\n",
       "      <td>0</td>\n",
       "      <td>0</td>\n",
       "      <td>0</td>\n",
       "      <td>0</td>\n",
       "      <td>0</td>\n",
       "      <td>...</td>\n",
       "      <td>0</td>\n",
       "      <td>0</td>\n",
       "      <td>1</td>\n",
       "      <td>0</td>\n",
       "      <td>0</td>\n",
       "      <td>0</td>\n",
       "      <td>0</td>\n",
       "      <td>0</td>\n",
       "      <td>0</td>\n",
       "      <td>0</td>\n",
       "    </tr>\n",
       "    <tr>\n",
       "      <th>367568</th>\n",
       "      <td>0.536484</td>\n",
       "      <td>102.0</td>\n",
       "      <td>0</td>\n",
       "      <td>0</td>\n",
       "      <td>0</td>\n",
       "      <td>0</td>\n",
       "      <td>0</td>\n",
       "      <td>0</td>\n",
       "      <td>0</td>\n",
       "      <td>0</td>\n",
       "      <td>...</td>\n",
       "      <td>0</td>\n",
       "      <td>0</td>\n",
       "      <td>0</td>\n",
       "      <td>0</td>\n",
       "      <td>1</td>\n",
       "      <td>0</td>\n",
       "      <td>0</td>\n",
       "      <td>0</td>\n",
       "      <td>0</td>\n",
       "      <td>0</td>\n",
       "    </tr>\n",
       "    <tr>\n",
       "      <th>314480</th>\n",
       "      <td>0.340514</td>\n",
       "      <td>0.0</td>\n",
       "      <td>0</td>\n",
       "      <td>0</td>\n",
       "      <td>0</td>\n",
       "      <td>0</td>\n",
       "      <td>0</td>\n",
       "      <td>0</td>\n",
       "      <td>0</td>\n",
       "      <td>0</td>\n",
       "      <td>...</td>\n",
       "      <td>0</td>\n",
       "      <td>0</td>\n",
       "      <td>0</td>\n",
       "      <td>0</td>\n",
       "      <td>0</td>\n",
       "      <td>0</td>\n",
       "      <td>0</td>\n",
       "      <td>0</td>\n",
       "      <td>0</td>\n",
       "      <td>0</td>\n",
       "    </tr>\n",
       "    <tr>\n",
       "      <th>...</th>\n",
       "      <td>...</td>\n",
       "      <td>...</td>\n",
       "      <td>...</td>\n",
       "      <td>...</td>\n",
       "      <td>...</td>\n",
       "      <td>...</td>\n",
       "      <td>...</td>\n",
       "      <td>...</td>\n",
       "      <td>...</td>\n",
       "      <td>...</td>\n",
       "      <td>...</td>\n",
       "      <td>...</td>\n",
       "      <td>...</td>\n",
       "      <td>...</td>\n",
       "      <td>...</td>\n",
       "      <td>...</td>\n",
       "      <td>...</td>\n",
       "      <td>...</td>\n",
       "      <td>...</td>\n",
       "      <td>...</td>\n",
       "      <td>...</td>\n",
       "    </tr>\n",
       "    <tr>\n",
       "      <th>83097</th>\n",
       "      <td>0.478805</td>\n",
       "      <td>-1.0</td>\n",
       "      <td>0</td>\n",
       "      <td>0</td>\n",
       "      <td>0</td>\n",
       "      <td>0</td>\n",
       "      <td>0</td>\n",
       "      <td>0</td>\n",
       "      <td>0</td>\n",
       "      <td>0</td>\n",
       "      <td>...</td>\n",
       "      <td>0</td>\n",
       "      <td>0</td>\n",
       "      <td>0</td>\n",
       "      <td>0</td>\n",
       "      <td>0</td>\n",
       "      <td>0</td>\n",
       "      <td>0</td>\n",
       "      <td>0</td>\n",
       "      <td>0</td>\n",
       "      <td>0</td>\n",
       "    </tr>\n",
       "    <tr>\n",
       "      <th>393403</th>\n",
       "      <td>0.670605</td>\n",
       "      <td>-2.0</td>\n",
       "      <td>0</td>\n",
       "      <td>0</td>\n",
       "      <td>0</td>\n",
       "      <td>0</td>\n",
       "      <td>0</td>\n",
       "      <td>0</td>\n",
       "      <td>0</td>\n",
       "      <td>0</td>\n",
       "      <td>...</td>\n",
       "      <td>0</td>\n",
       "      <td>0</td>\n",
       "      <td>0</td>\n",
       "      <td>0</td>\n",
       "      <td>1</td>\n",
       "      <td>0</td>\n",
       "      <td>0</td>\n",
       "      <td>0</td>\n",
       "      <td>0</td>\n",
       "      <td>0</td>\n",
       "    </tr>\n",
       "    <tr>\n",
       "      <th>426343</th>\n",
       "      <td>0.820014</td>\n",
       "      <td>-11.0</td>\n",
       "      <td>0</td>\n",
       "      <td>0</td>\n",
       "      <td>0</td>\n",
       "      <td>0</td>\n",
       "      <td>0</td>\n",
       "      <td>0</td>\n",
       "      <td>0</td>\n",
       "      <td>0</td>\n",
       "      <td>...</td>\n",
       "      <td>0</td>\n",
       "      <td>0</td>\n",
       "      <td>0</td>\n",
       "      <td>0</td>\n",
       "      <td>0</td>\n",
       "      <td>0</td>\n",
       "      <td>0</td>\n",
       "      <td>0</td>\n",
       "      <td>0</td>\n",
       "      <td>0</td>\n",
       "    </tr>\n",
       "    <tr>\n",
       "      <th>1028693</th>\n",
       "      <td>0.813065</td>\n",
       "      <td>0.0</td>\n",
       "      <td>0</td>\n",
       "      <td>0</td>\n",
       "      <td>0</td>\n",
       "      <td>0</td>\n",
       "      <td>0</td>\n",
       "      <td>0</td>\n",
       "      <td>0</td>\n",
       "      <td>0</td>\n",
       "      <td>...</td>\n",
       "      <td>0</td>\n",
       "      <td>0</td>\n",
       "      <td>0</td>\n",
       "      <td>0</td>\n",
       "      <td>0</td>\n",
       "      <td>0</td>\n",
       "      <td>0</td>\n",
       "      <td>0</td>\n",
       "      <td>0</td>\n",
       "      <td>0</td>\n",
       "    </tr>\n",
       "    <tr>\n",
       "      <th>695582</th>\n",
       "      <td>0.469076</td>\n",
       "      <td>0.0</td>\n",
       "      <td>0</td>\n",
       "      <td>0</td>\n",
       "      <td>0</td>\n",
       "      <td>1</td>\n",
       "      <td>0</td>\n",
       "      <td>0</td>\n",
       "      <td>0</td>\n",
       "      <td>0</td>\n",
       "      <td>...</td>\n",
       "      <td>1</td>\n",
       "      <td>0</td>\n",
       "      <td>0</td>\n",
       "      <td>0</td>\n",
       "      <td>0</td>\n",
       "      <td>0</td>\n",
       "      <td>0</td>\n",
       "      <td>0</td>\n",
       "      <td>0</td>\n",
       "      <td>0</td>\n",
       "    </tr>\n",
       "  </tbody>\n",
       "</table>\n",
       "<p>783795 rows × 68 columns</p>\n",
       "</div>"
      ],
      "text/plain": [
       "         CRS_DEP_TIME  DEP_DELAY  1  2  3  4  5  6  7  8  ...  SAN  SBA  SBP  \\\n",
       "1195137      0.632384       -4.0  0  0  0  0  0  0  0  1  ...    0    0    0   \n",
       "1098716      0.569840       -3.0  0  0  0  0  0  0  0  0  ...    0    0    0   \n",
       "934153       0.264072       -3.0  0  0  0  0  0  0  0  0  ...    0    0    1   \n",
       "367568       0.536484      102.0  0  0  0  0  0  0  0  0  ...    0    0    0   \n",
       "314480       0.340514        0.0  0  0  0  0  0  0  0  0  ...    0    0    0   \n",
       "...               ...        ... .. .. .. .. .. .. .. ..  ...  ...  ...  ...   \n",
       "83097        0.478805       -1.0  0  0  0  0  0  0  0  0  ...    0    0    0   \n",
       "393403       0.670605       -2.0  0  0  0  0  0  0  0  0  ...    0    0    0   \n",
       "426343       0.820014      -11.0  0  0  0  0  0  0  0  0  ...    0    0    0   \n",
       "1028693      0.813065        0.0  0  0  0  0  0  0  0  0  ...    0    0    0   \n",
       "695582       0.469076        0.0  0  0  0  1  0  0  0  0  ...    1    0    0   \n",
       "\n",
       "         SCK  SFO  SJC  SMF  SMX  SNA  STS  \n",
       "1195137    0    0    0    1    0    0    0  \n",
       "1098716    0    0    0    0    0    0    0  \n",
       "934153     0    0    0    0    0    0    0  \n",
       "367568     0    1    0    0    0    0    0  \n",
       "314480     0    0    0    0    0    0    0  \n",
       "...      ...  ...  ...  ...  ...  ...  ...  \n",
       "83097      0    0    0    0    0    0    0  \n",
       "393403     0    1    0    0    0    0    0  \n",
       "426343     0    0    0    0    0    0    0  \n",
       "1028693    0    0    0    0    0    0    0  \n",
       "695582     0    0    0    0    0    0    0  \n",
       "\n",
       "[783795 rows x 68 columns]"
      ]
     },
     "execution_count": 292,
     "metadata": {},
     "output_type": "execute_result"
    }
   ],
   "source": [
    "df0"
   ]
  },
  {
   "cell_type": "code",
   "execution_count": 293,
   "metadata": {},
   "outputs": [],
   "source": [
    "#делим на тренировочные и тестовые выборки с помощью библиотеки\n",
    "train, test = train_test_split(df0, test_size=0.2)\n",
    "#перемешиваем\n",
    "train=train.sample(frac=1)\n",
    "test=test.sample(frac=1)"
   ]
  },
  {
   "cell_type": "code",
   "execution_count": 287,
   "metadata": {},
   "outputs": [],
   "source": []
  },
  {
   "cell_type": "code",
   "execution_count": 294,
   "metadata": {},
   "outputs": [],
   "source": [
    "df0.to_csv('full_data.csv')"
   ]
  },
  {
   "cell_type": "code",
   "execution_count": 295,
   "metadata": {},
   "outputs": [],
   "source": [
    "train.to_csv('train.csv')"
   ]
  },
  {
   "cell_type": "code",
   "execution_count": 296,
   "metadata": {},
   "outputs": [],
   "source": [
    "test.to_csv('test.csv')"
   ]
  },
  {
   "cell_type": "code",
   "execution_count": null,
   "metadata": {},
   "outputs": [],
   "source": []
  }
 ],
 "metadata": {
  "kernelspec": {
   "display_name": "Python 3",
   "language": "python",
   "name": "python3"
  },
  "language_info": {
   "codemirror_mode": {
    "name": "ipython",
    "version": 3
   },
   "file_extension": ".py",
   "mimetype": "text/x-python",
   "name": "python",
   "nbconvert_exporter": "python",
   "pygments_lexer": "ipython3",
   "version": "3.8.3"
  }
 },
 "nbformat": 4,
 "nbformat_minor": 4
}
