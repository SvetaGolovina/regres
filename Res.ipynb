{
 "cells": [
  {
   "cell_type": "code",
   "execution_count": 1,
   "metadata": {},
   "outputs": [],
   "source": [
    "import numpy as np\n",
    "import pandas as pd\n",
    "import math\n",
    "from sklearn.metrics import r2_score\n",
    "import methods \n",
    "import metrics \n",
    "from metrics import mse\n",
    "from methods import SGD, RMSprop, RMSprop_regul, Adagrad, Adam"
   ]
  },
  {
   "cell_type": "code",
   "execution_count": 2,
   "metadata": {},
   "outputs": [],
   "source": [
    "def predict(X,optim): \n",
    "    return np.dot(X, optim[:-1]) + optim[-1]  "
   ]
  },
  {
   "cell_type": "code",
   "execution_count": 3,
   "metadata": {},
   "outputs": [],
   "source": [
    "def k_fold_cross_validation(X, Y, method, reg_type, k=5):\n",
    "    size_test = len(X) // k\n",
    "    begin = 0\n",
    "    end = size_test + len(X) % k\n",
    "    m_mse = 0\n",
    "    m_r2 = 0\n",
    "    for i in range(k):\n",
    "        w = np.zeros(len(X.columns) + 1)\n",
    "        \n",
    "        X_train = pd.concat([X[:begin], X[end:]])\n",
    "        Y_train = pd.concat([Y[:begin], Y[end:]])\n",
    "        X_test = X[begin:end]\n",
    "        Y_test = Y[begin:end]\n",
    "\n",
    "        if method == 'SGD':\n",
    "            if reg_type == 'No':\n",
    "                optim, err = SGD(X, Y,w,reg_type,**paramSGD)\n",
    "            elif reg_type == 'L1':\n",
    "                optim, err = SGD(X, Y,w,reg_type,**paramSGDL1)\n",
    "            elif reg_type == 'L2':\n",
    "                optim, err = SGD(X, Y,w,reg_type,**paramSGDL2)\n",
    "        elif method == 'RMSprop':\n",
    "              optim, err = RMSprop(X, Y,w,**paramRMS)\n",
    "        elif method == 'RMSprop_regul':\n",
    "            if reg_type == 'L1':\n",
    "                optim, err = RMSprop_regul(X, Y,w,reg_type,**paramRMSL1)\n",
    "            elif reg_type == 'L2':\n",
    "                optim, err = RMSprop_regul(X, Y,w,reg_type,**paramRMSL2)       \n",
    "        elif method == 'Adagrad':\n",
    "            if reg_type == 'No':\n",
    "                optim, err = Adagrad(X, Y,w,reg_type, 0) \n",
    "            elif reg_type == 'L1':\n",
    "                optim, err = Adagrad(X, Y,w,reg_type, **paramAdaL1)\n",
    "            elif reg_type == 'L2':    \n",
    "                optim, err = Adagrad(X, Y,w,reg_type, **paramAdaL2)\n",
    "        elif method == 'Adam':\n",
    "            if reg_type == 'No':\n",
    "                optim, err = Adam(X, Y,w,reg_type, 0) \n",
    "            elif reg_type == 'L1':\n",
    "                optim, err = Adam(X, Y,w,reg_type, **paramAdamL1)\n",
    "            elif reg_type == 'L2':    \n",
    "                optim, err = Adam(X, Y,w,reg_type, **paramAdamL2)\n",
    "            \n",
    "        Y_p = predict(X_test,optim)\n",
    "\n",
    "        a_mse = mse(Y_test,Y_p,begin)\n",
    "        a_r2 = r2_score(Y_test,Y_p)\n",
    "        m_mse += a_mse\n",
    "        m_r2 += a_r2\n",
    "        print(f\"Step {i+1}: MSE = {a_mse}, R2 = {a_r2}\")\n",
    "\n",
    "        begin += size_test\n",
    "        end += size_test\n",
    "\n",
    "    print(f\"Average MSE: {m_mse / k}\")\n",
    "    print(f\"Average R2: {m_r2 / k}\")"
   ]
  },
  {
   "cell_type": "markdown",
   "metadata": {},
   "source": [
    "## Результаты"
   ]
  },
  {
   "cell_type": "markdown",
   "metadata": {},
   "source": [
    "Используем заранее подобранные параметры"
   ]
  },
  {
   "cell_type": "code",
   "execution_count": 9,
   "metadata": {},
   "outputs": [],
   "source": [
    "#настроенные параметры\n",
    "paramSGD= {'reg_param': 0,'coef_grad': 0.01,'coef_prev_grad': 0.001}\n",
    "paramSGDL1= {'reg_param': 10,'coef_grad':  0.01,'coef_prev_grad': 0.001}\n",
    "paramSGDL2= {'reg_param': 100, 'coef_grad': 0.01,'coef_prev_grad': 0.001}\n",
    "paramRMS = {'gamma': 0.8, 'num': 80}\n",
    "paramRMSL1 = {'reg_param': 50, 'gamma': 0.8, 'num': 50}\n",
    "paramRMSL2 = {'reg_param': 50, 'gamma': 0.8, 'num': 50}\n",
    "paramAdaL1 = {'reg_param': 10000}\n",
    "paramAdaL2 = {'reg_param': 10}\n",
    "paramAdamL1 = {'reg_param': 10}\n",
    "paramAdamL2 = {'reg_param': 10}"
   ]
  },
  {
   "cell_type": "markdown",
   "metadata": {},
   "source": [
    "Считываем тренировочные данные"
   ]
  },
  {
   "cell_type": "code",
   "execution_count": 14,
   "metadata": {},
   "outputs": [],
   "source": [
    "df=pd.read_csv('train.csv', delimiter=',') \n",
    "df=df.drop(df.columns[[0]], axis='columns')\n",
    "X = df.drop(columns=[\"DEP_DELAY\"])\n",
    "Y = df[\"DEP_DELAY\"]"
   ]
  },
  {
   "cell_type": "markdown",
   "metadata": {},
   "source": [
    "**SGD**"
   ]
  },
  {
   "cell_type": "markdown",
   "metadata": {},
   "source": [
    "Результаты для алгоритма стохастического градиентного спуска без регуляризации, с L1 и L2 регуляризациями"
   ]
  },
  {
   "cell_type": "code",
   "execution_count": 95,
   "metadata": {},
   "outputs": [
    {
     "name": "stdout",
     "output_type": "stream",
     "text": [
      "Step 1: MSE = 1583.1979658852629, R2 = 0.009512361381599721\n",
      "Step 2: MSE = 1552.6829928842717, R2 = 0.008916195042106945\n",
      "Step 3: MSE = 1571.3292168913358, R2 = 0.008504066652072373\n",
      "Step 4: MSE = 1591.9803444247832, R2 = 0.009073354511640597\n",
      "Step 5: MSE = 1423.7521636702702, R2 = 0.010649659066893191\n",
      "Average MSE: 1544.5885367511846\n",
      "Average R2: 0.009331127330862565\n"
     ]
    }
   ],
   "source": [
    "method = 'SGD'\n",
    "reg_type = 'No'\n",
    "k_fold_cross_validation(X, Y, method, reg_type)"
   ]
  },
  {
   "cell_type": "code",
   "execution_count": 96,
   "metadata": {},
   "outputs": [
    {
     "name": "stdout",
     "output_type": "stream",
     "text": [
      "Step 1: MSE = 1668.6016742177155, R2 = -0.04391830188239232\n",
      "Step 2: MSE = 1636.3373799602793, R2 = -0.04448073699401367\n",
      "Step 3: MSE = 1656.1371128281228, R2 = -0.0450090247060102\n",
      "Step 4: MSE = 1679.1195136359759, R2 = -0.04516633817018456\n",
      "Step 5: MSE = 1507.1245108451906, R2 = -0.047284904410262785\n",
      "Average MSE: 1629.4640382974567\n",
      "Average R2: -0.045171861232572705\n"
     ]
    }
   ],
   "source": [
    "method = 'SGD'\n",
    "reg_type = 'L1'\n",
    "k_fold_cross_validation(X, Y, method, reg_type)"
   ]
  },
  {
   "cell_type": "code",
   "execution_count": 97,
   "metadata": {},
   "outputs": [
    {
     "name": "stdout",
     "output_type": "stream",
     "text": [
      "Step 1: MSE = 1668.6016734844684, R2 = -0.04391830142365749\n",
      "Step 2: MSE = 1636.3373794191057, R2 = -0.04448073664862129\n",
      "Step 3: MSE = 1656.1371123105705, R2 = -0.0450090243794119\n",
      "Step 4: MSE = 1679.1195130637227, R2 = -0.04516633781401347\n",
      "Step 5: MSE = 1507.124510237127, R2 = -0.04728490398774876\n",
      "Average MSE: 1629.4640377029987\n",
      "Average R2: -0.04517186085069058\n"
     ]
    }
   ],
   "source": [
    "method = 'SGD'\n",
    "reg_type = 'L2'\n",
    "k_fold_cross_validation(X, Y, method, reg_type)"
   ]
  },
  {
   "cell_type": "markdown",
   "metadata": {},
   "source": [
    "**RMSprop**"
   ]
  },
  {
   "cell_type": "markdown",
   "metadata": {},
   "source": [
    "Результаты для алгоритма RMSprop без регуляризации, с L1 и L2 регуляризациями"
   ]
  },
  {
   "cell_type": "code",
   "execution_count": 12,
   "metadata": {},
   "outputs": [
    {
     "name": "stdout",
     "output_type": "stream",
     "text": [
      "Step 1: MSE = 1582.198551534174, R2 = 0.010137619613318938\n",
      "Step 2: MSE = 1551.9128369044986, R2 = 0.009407788704395181\n",
      "Step 3: MSE = 1570.2307513628025, R2 = 0.00919718945075465\n",
      "Step 4: MSE = 1591.2902963023412, R2 = 0.00950287430663832\n",
      "Step 5: MSE = 1422.3349514382617, R2 = 0.011634464878385264\n",
      "Average MSE: 1543.5934775084154\n",
      "Average R2: 0.00997598739069847\n"
     ]
    }
   ],
   "source": [
    "method = 'RMSprop'\n",
    "reg_type = 'No'\n",
    "k_fold_cross_validation(X, Y, method, reg_type)"
   ]
  },
  {
   "cell_type": "code",
   "execution_count": 7,
   "metadata": {},
   "outputs": [
    {
     "name": "stdout",
     "output_type": "stream",
     "text": [
      "Step 1: MSE = 1665.3200668851127, R2 = -0.04186524751535492\n",
      "Step 2: MSE = 1633.264455381576, R2 = -0.04251927686484325\n",
      "Step 3: MSE = 1653.3768685590346, R2 = -0.04326733306147501\n",
      "Step 4: MSE = 1676.0852702636635, R2 = -0.0432776762799576\n",
      "Step 5: MSE = 1504.0755348543244, R2 = -0.045166203197355426\n",
      "Average MSE: 1626.4244391887423\n",
      "Average R2: -0.04321914738379724\n"
     ]
    }
   ],
   "source": [
    "method = 'RMSprop_regul'\n",
    "reg_type = 'L2'\n",
    "k_fold_cross_validation(X, Y, method, reg_type)"
   ]
  },
  {
   "cell_type": "markdown",
   "metadata": {},
   "source": [
    "**Adagrad**"
   ]
  },
  {
   "cell_type": "markdown",
   "metadata": {},
   "source": [
    "Бeз регуляризации Average MSE =1501.9555589185588\n",
    "\n",
    "L1 Average MSE = 1569.240207568376\n",
    "\n",
    "L2 Average MSE = 1576.069480001235"
   ]
  },
  {
   "cell_type": "markdown",
   "metadata": {},
   "source": [
    "**Adam**"
   ]
  },
  {
   "cell_type": "markdown",
   "metadata": {},
   "source": [
    "Бeз регуляризации Average MSE = 1500.7610984001499\n",
    "\n",
    "L1 Average MSE = 1576.0684905678836\n",
    "\n",
    "L2 Average MSE = 1576.069480001235"
   ]
  }
 ],
 "metadata": {
  "kernelspec": {
   "display_name": "Python 3",
   "language": "python",
   "name": "python3"
  },
  "language_info": {
   "codemirror_mode": {
    "name": "ipython",
    "version": 3
   },
   "file_extension": ".py",
   "mimetype": "text/x-python",
   "name": "python",
   "nbconvert_exporter": "python",
   "pygments_lexer": "ipython3",
   "version": "3.8.3"
  }
 },
 "nbformat": 4,
 "nbformat_minor": 4
}
